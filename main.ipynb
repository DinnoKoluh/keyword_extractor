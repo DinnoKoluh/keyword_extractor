{
 "cells": [
  {
   "cell_type": "code",
   "execution_count": 1,
   "metadata": {},
   "outputs": [],
   "source": [
    "%load_ext autoreload\n",
    "%autoreload 2\n",
    "from nlp_utils import *\n",
    "from data_utils import *\n",
    "from KeywordExtractor import *\n",
    "from gensim.models import Word2Vec\n",
    "import networkx as nx\n",
    "import numpy as np\n",
    "import matplotlib.pyplot as plt\n",
    "import pandas as pd\n",
    "import nltk\n",
    "from nltk.corpus import wordnet\n"
   ]
  },
  {
   "cell_type": "code",
   "execution_count": 2,
   "metadata": {},
   "outputs": [],
   "source": [
    "# WORD EMBEDDINGS\n",
    "from gensim.models import Word2Vec, KeyedVectors\n",
    "import gensim.downloader as api\n",
    "# Download a pre-trained Word2Vec model (you can choose other models as well)\n",
    "model_name = \"glove-wiki-gigaword-50\"\n",
    "\n",
    "# Download and load the model (this might take a while to download)\n",
    "# model = api.load(model_name)\n",
    "# model.save('data/model.model')"
   ]
  },
  {
   "cell_type": "code",
   "execution_count": 7,
   "metadata": {},
   "outputs": [
    {
     "name": "stdout",
     "output_type": "stream",
     "text": [
      "Deep Residual Learning for Image Recognition. Deeper neural networks are more difficult to train. We present a residual learning framework to ease the training of networks that are substantially deeper than those used previously. We explicitly reformulate the layers as learning residual functions with reference to the layer inputs, instead of learning unreferenced functions. We provide comprehensive empirical evidence showing that these residual networks are easier to optimize, and can gain accuracy from considerably increased depth. On the ImageNet dataset we evaluate residual nets with a depth of up to 152 layers - 8× deeper than VGG nets [40] but still having lower complexity. An ensemble of these residual nets achieves 3.57% error on the ImageNet test set. This result won the 1st place on the ILSVRC 2015 classification task. We also present analysis on CIFAR-10 with 100 and 1000 layers. The depth of representations is of central importance for many visual recognition tasks. Solely due to our extremely deep representations, we obtain a 28% relative improvement on the COCO object detection dataset. Deep residual nets are foundations of our submissions to ILSVRC & COCO 2015 competitions1, where we also won the 1st places on the tasks of ImageNet detection, ImageNet localization, COCO detection, and COCO segmentation.\n",
      "Deeper neural networks are more difficult to train. We present a residual learning framework to ease the training of networks that are substantially deeper than those used previously. We explicitly reformulate the layers as learning residual functions with reference to the layer inputs, instead of learning unreferenced functions. We provide comprehensive empirical evidence showing that these residual networks are easier to optimize, and can gain accuracy from considerably increased depth. On the ImageNet dataset we evaluate residual nets with a depth of up to 152 layers - 8× deeper than VGG nets [40] but still having lower complexity. An ensemble of these residual nets achieves 3.57% error on the ImageNet test set. This result won the 1st place on the ILSVRC 2015 classification task. We also present analysis on CIFAR-10 with 100 and 1000 layers. The depth of representations is of central importance for many visual recognition tasks. Solely due to our extremely deep representations, we obtain a 28% relative improvement on the COCO object detection dataset. Deep residual nets are foundations of our submissions to ILSVRC & COCO 2015 competitions1, where we also won the 1st places on the tasks of ImageNet detection, ImageNet localization, COCO detection, and COCO segmentation.\n",
      "Deep Residual Learning for Image Recognition\n",
      "['Training', 'Degradation', 'Complexity theory', 'Image recognition', 'Neural networks', 'Visualization', 'Image segmentation']\n"
     ]
    }
   ],
   "source": [
    "joined, abstracts, titles, keywords = get_data('data/CS_papers.csv', version=\"CS\")\n",
    "print(joined[0])\n",
    "print(abstracts[0])\n",
    "print(titles[0])\n",
    "print(keywords[0])"
   ]
  },
  {
   "cell_type": "code",
   "execution_count": 24,
   "metadata": {},
   "outputs": [
    {
     "name": "stdout",
     "output_type": "stream",
     "text": [
      "['wait', 'wave', 'crest', 'wavelength', 'service', 'wavelength', 'service', 'hype', 'ad', 'nauseam', 'year', 'despite', 'quick', 'time', 'impressive', 'margin', 'service', 'yet', 'live', 'industry', 'expectation', 'reason', 'lukewarm', 'reception', 'many', 'least', 'confusion', 'still', 'surround', 'technology', 'industry', 'observer', 'still', 'convince', 'wavelength', 'service', 'ultimately', 'flourish']\n",
      "[['wait', 'wave', 'crest', 'wavelength', 'service', 'wavelength', 'service', 'hype', 'ad', 'nauseam', 'year'], ['despite', 'quick', 'time', 'impressive', 'margin', 'service', 'yet', 'live', 'industry', 'expectation']]\n",
      "{('wait', 'wave'): 1, ('crest', 'wait'): 1, ('wait', 'wavelength'): 2, ('service', 'wait'): 1, ('crest', 'wave'): 2, ('wave', 'wavelength'): 4, ('service', 'wave'): 3, ('crest', 'wavelength'): 6, ('crest', 'service'): 5, ('service', 'wavelength'): 17, ('wavelength', 'wavelength'): 4, ('service', 'service'): 4, ('crest', 'hype'): 1, ('hype', 'wavelength'): 6, ('hype', 'service'): 7, ('ad', 'wavelength'): 4, ('ad', 'service'): 5, ('ad', 'hype'): 3, ('nauseam', 'service'): 3, ('nauseam', 'wavelength'): 2, ('hype', 'nauseam'): 2, ('ad', 'nauseam'): 2, ('wavelength', 'year'): 1, ('service', 'year'): 1, ('hype', 'year'): 1, ('ad', 'year'): 1, ('nauseam', 'year'): 1, ('despite', 'quick'): 1, ('despite', 'time'): 1, ('despite', 'impressive'): 1, ('despite', 'margin'): 1, ('despite', 'service'): 1, ('quick', 'time'): 2, ('impressive', 'quick'): 2, ('margin', 'quick'): 2, ('quick', 'service'): 2, ('impressive', 'time'): 3, ('margin', 'time'): 3, ('service', 'time'): 3, ('impressive', 'margin'): 4, ('impressive', 'service'): 4, ('margin', 'service'): 5, ('quick', 'yet'): 1, ('time', 'yet'): 2, ('impressive', 'yet'): 3, ('margin', 'yet'): 4, ('service', 'yet'): 4, ('live', 'time'): 1, ('impressive', 'live'): 2, ('live', 'margin'): 3, ('live', 'service'): 3, ('live', 'yet'): 3, ('impressive', 'industry'): 1, ('industry', 'margin'): 2, ('industry', 'service'): 2, ('industry', 'yet'): 2, ('industry', 'live'): 2, ('expectation', 'margin'): 1, ('expectation', 'service'): 1, ('expectation', 'yet'): 1, ('expectation', 'live'): 1, ('expectation', 'industry'): 1}\n"
     ]
    },
    {
     "data": {
      "text/plain": [
       "NodeView(('wait', 'year', 'live', 'wavelength', 'service', 'impressive', 'nauseam', 'ad', 'crest', 'time', 'margin', 'quick', 'hype', 'industry', 'yet', 'expectation', 'despite', 'wave'))"
      ]
     },
     "execution_count": 24,
     "metadata": {},
     "output_type": "execute_result"
    }
   ],
   "source": [
    "abstract = load_abstract('ex1')\n",
    "#joined, abstracts, titles, keywords = get_data('data/CS_papers.csv', version=\"CS\")\n",
    "abstracts, keywords = get_data('data/inspec_papers.csv', version=\"inspec\")\n",
    "abstract = abstracts[0]\n",
    "#abstract = \"The country of Japan has developed to a great economy after WW1. Japan is a developed island nation. The cats are jumping over the fences.\"\n",
    "#abstract = \"I like deep learning. I like NLP. I enjoy flying. Japan is a developed island nation. I like Japan because it is an island. \"\n",
    "ke = KeywordExtractor(abstract=abstract)\n",
    "print(ke.tokens)\n",
    "print(ke.sentences)\n",
    "print(ke.co)\n",
    "ke.graph.nodes"
   ]
  },
  {
   "cell_type": "code",
   "execution_count": null,
   "metadata": {},
   "outputs": [],
   "source": [
    "from gensim.summarization import keywords\n",
    "\n",
    "# Extract keywords using TextRank\n",
    "extracted_keywords = keywords(abstract, lemmatize=True)\n",
    "\n",
    "# Print the extracted keywords\n",
    "print(extracted_keywords)"
   ]
  },
  {
   "cell_type": "code",
   "execution_count": null,
   "metadata": {},
   "outputs": [],
   "source": [
    "import spacy\n",
    "import pytextrank\n",
    "\n",
    "# example text\n",
    "text = abstract\n",
    "\n",
    "# load a spaCy model, depending on language, scale, etc.\n",
    "nlp = spacy.load(\"en_core_web_sm\")\n",
    "\n",
    "# add PyTextRank to the spaCy pipeline\n",
    "nlp.add_pipe(\"textrank\")\n",
    "doc = nlp(text)\n",
    "\n",
    "# examine the top-ranked phrases in the document\n",
    "print(f\"Ground truth {keywords[0]}\")\n",
    "for phrase in doc._.phrases:\n",
    "    print(phrase.text)\n",
    "    print(phrase.rank, phrase.count)\n",
    "    print(phrase.chunks)"
   ]
  },
  {
   "cell_type": "code",
   "execution_count": null,
   "metadata": {},
   "outputs": [],
   "source": [
    "print(len(ke.unique_tokens))\n",
    "labels = nx.get_edge_attributes(ke.graph,'weight')\n",
    "ke.add_we_weights()\n",
    "# print(ke.graph.edges)\n",
    "print(labels)\n",
    "\n",
    "ke.order_nodes()\n",
    "ke.visualize_graph()"
   ]
  },
  {
   "cell_type": "code",
   "execution_count": null,
   "metadata": {},
   "outputs": [],
   "source": [
    "print(abstracts[0])\n",
    "print(keywords[0])\n",
    "ke.order_nodes()"
   ]
  },
  {
   "cell_type": "code",
   "execution_count": null,
   "metadata": {},
   "outputs": [],
   "source": [
    "from sklearn.metrics.pairwise import cosine_similarity\n",
    "\n",
    "model = KeyedVectors.load('data/model.model')\n",
    "a = get_word_em(\"nlp\")\n",
    "b = get_word_em(\"apple\")\n",
    "print(model.similarity(\"nlp\", \"apple\"))\n",
    "print(cosine_similarity(a.reshape(1, -1), b.reshape(1, -1))[0])\n",
    "similar_words = model.similar_by_vector(a, topn=5)\n",
    "print(\"\\nWords similar to:\")\n",
    "for word, score in similar_words:\n",
    "    print(f\"{word}: {score}\")"
   ]
  },
  {
   "cell_type": "code",
   "execution_count": null,
   "metadata": {},
   "outputs": [],
   "source": [
    "model = KeyedVectors.load('data/model.model')\n",
    "# Find the vector representation of a word\n",
    "word_vector = model[\"apple\"]\n",
    "print(\"Vector representation of 'apple':\")\n",
    "print(word_vector)\n",
    "\n",
    "# Find similar words\n",
    "similar_words = model.most_similar(\"apple\", topn=5)\n",
    "print(\"\\nWords similar to 'apple':\")\n",
    "for word, score in similar_words:\n",
    "    print(f\"{word}: {score}\")\n",
    "\n",
    "# Perform vector arithmetic (e.g., king - man + woman = queen)\n",
    "result = model.most_similar(positive=[\"king\", \"woman\"], negative=[\"man\"], topn=1)\n",
    "print(\"\\n'king' - 'man' + 'woman' =\")\n",
    "for word, score in result:\n",
    "    print(f\"{word}: {score}\")\n",
    "\n",
    "# Assuming you have already loaded a pretrained Word2Vec model\n",
    "word1 = \"learning\"\n",
    "word2 = \"island\"\n",
    "\n",
    "# Calculate the similarity between two words\n",
    "similarity_score = model.similarity(word1, word2)\n",
    "\n",
    "print(f\"Similarity between '{word1}' and '{word2}': {similarity_score:.2f}\")\n"
   ]
  }
 ],
 "metadata": {
  "kernelspec": {
   "display_name": "venv",
   "language": "python",
   "name": "python3"
  },
  "language_info": {
   "codemirror_mode": {
    "name": "ipython",
    "version": 3
   },
   "file_extension": ".py",
   "mimetype": "text/x-python",
   "name": "python",
   "nbconvert_exporter": "python",
   "pygments_lexer": "ipython3",
   "version": "3.11.3"
  },
  "orig_nbformat": 4
 },
 "nbformat": 4,
 "nbformat_minor": 2
}
