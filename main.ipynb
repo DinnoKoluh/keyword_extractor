{
 "cells": [
  {
   "cell_type": "code",
   "execution_count": 1,
   "metadata": {},
   "outputs": [],
   "source": [
    "%load_ext autoreload\n",
    "%autoreload 2\n",
    "from nlp_utils import *\n",
    "from data_utils import *\n",
    "from KeywordExtractor import *\n",
    "from gensim.models import Word2Vec\n",
    "import networkx as nx\n",
    "import numpy as np\n",
    "import matplotlib.pyplot as plt\n",
    "import pandas as pd\n",
    "import nltk\n",
    "from nltk.corpus import wordnet\n"
   ]
  },
  {
   "cell_type": "code",
   "execution_count": 2,
   "metadata": {},
   "outputs": [],
   "source": [
    "# WORD EMBEDDINGS\n",
    "from gensim.models import Word2Vec, KeyedVectors\n",
    "import gensim.downloader as api\n",
    "# Download a pre-trained Word2Vec model (you can choose other models as well)\n",
    "model_name = \"glove-wiki-gigaword-50\"\n",
    "\n",
    "# Download and load the model (this might take a while to download)\n",
    "# model = api.load(model_name)\n",
    "# model.save('data/model.model')"
   ]
  },
  {
   "cell_type": "code",
   "execution_count": 7,
   "metadata": {},
   "outputs": [
    {
     "name": "stdout",
     "output_type": "stream",
     "text": [
      "Deep Residual Learning for Image Recognition. Deeper neural networks are more difficult to train. We present a residual learning framework to ease the training of networks that are substantially deeper than those used previously. We explicitly reformulate the layers as learning residual functions with reference to the layer inputs, instead of learning unreferenced functions. We provide comprehensive empirical evidence showing that these residual networks are easier to optimize, and can gain accuracy from considerably increased depth. On the ImageNet dataset we evaluate residual nets with a depth of up to 152 layers - 8× deeper than VGG nets [40] but still having lower complexity. An ensemble of these residual nets achieves 3.57% error on the ImageNet test set. This result won the 1st place on the ILSVRC 2015 classification task. We also present analysis on CIFAR-10 with 100 and 1000 layers. The depth of representations is of central importance for many visual recognition tasks. Solely due to our extremely deep representations, we obtain a 28% relative improvement on the COCO object detection dataset. Deep residual nets are foundations of our submissions to ILSVRC & COCO 2015 competitions1, where we also won the 1st places on the tasks of ImageNet detection, ImageNet localization, COCO detection, and COCO segmentation.\n",
      "Deeper neural networks are more difficult to train. We present a residual learning framework to ease the training of networks that are substantially deeper than those used previously. We explicitly reformulate the layers as learning residual functions with reference to the layer inputs, instead of learning unreferenced functions. We provide comprehensive empirical evidence showing that these residual networks are easier to optimize, and can gain accuracy from considerably increased depth. On the ImageNet dataset we evaluate residual nets with a depth of up to 152 layers - 8× deeper than VGG nets [40] but still having lower complexity. An ensemble of these residual nets achieves 3.57% error on the ImageNet test set. This result won the 1st place on the ILSVRC 2015 classification task. We also present analysis on CIFAR-10 with 100 and 1000 layers. The depth of representations is of central importance for many visual recognition tasks. Solely due to our extremely deep representations, we obtain a 28% relative improvement on the COCO object detection dataset. Deep residual nets are foundations of our submissions to ILSVRC & COCO 2015 competitions1, where we also won the 1st places on the tasks of ImageNet detection, ImageNet localization, COCO detection, and COCO segmentation.\n",
      "Deep Residual Learning for Image Recognition\n",
      "['Training', 'Degradation', 'Complexity theory', 'Image recognition', 'Neural networks', 'Visualization', 'Image segmentation']\n"
     ]
    }
   ],
   "source": [
    "joined, abstracts, titles, keywords = get_data('data/CS_papers.csv', version=\"CS\")\n",
    "print(joined[0])\n",
    "print(abstracts[0])\n",
    "print(titles[0])\n",
    "print(keywords[0])"
   ]
  },
  {
   "cell_type": "code",
   "execution_count": 18,
   "metadata": {},
   "outputs": [
    {
     "name": "stdout",
     "output_type": "stream",
     "text": [
      "{'great': 0, 'economy': 1, 'rice': 2, 'food': 3, 'fish': 4, 'sushi': 5, 'sea': 6, 'island': 7, 'famous': 8, 'country': 9, 'source': 10, 'japan': 11, 'world_war_2': 12}\n",
      "[[0. 2. 0. 0. 0. 0. 0. 0. 0. 1. 0. 2. 1.]\n",
      " [2. 0. 0. 0. 0. 0. 0. 0. 0. 0. 0. 1. 1.]\n",
      " [0. 0. 0. 1. 2. 0. 0. 0. 1. 0. 0. 0. 0.]\n",
      " [0. 0. 1. 0. 1. 0. 0. 0. 0. 0. 0. 0. 0.]\n",
      " [0. 0. 2. 1. 0. 1. 1. 0. 2. 0. 1. 0. 0.]\n",
      " [0. 0. 0. 0. 1. 0. 0. 0. 1. 0. 0. 0. 0.]\n",
      " [0. 0. 0. 0. 1. 0. 0. 0. 0. 0. 2. 1. 0.]\n",
      " [0. 0. 0. 0. 0. 0. 0. 0. 0. 1. 0. 1. 0.]\n",
      " [0. 0. 1. 0. 2. 1. 0. 0. 0. 0. 0. 0. 0.]\n",
      " [1. 0. 0. 0. 0. 0. 0. 1. 0. 0. 0. 2. 0.]\n",
      " [0. 0. 0. 0. 1. 0. 2. 0. 0. 0. 0. 1. 0.]\n",
      " [2. 1. 0. 0. 0. 0. 1. 1. 0. 2. 1. 0. 0.]\n",
      " [1. 1. 0. 0. 0. 0. 0. 0. 0. 0. 0. 0. 0.]]\n"
     ]
    }
   ],
   "source": [
    "abstract = \"The island country of Japan has developed into a great economy after World War 2. \\\n",
    "The Japan sea is a source of fish. Sushi is a famous fish and rice food.\"\n",
    "tokens, sentences = prune_text(abstract)\n",
    "co, index_dict = get_co(sentences, representation='matrix')\n",
    "print(index_dict)\n",
    "print(co)"
   ]
  },
  {
   "cell_type": "code",
   "execution_count": 3,
   "metadata": {},
   "outputs": [
    {
     "name": "stdout",
     "output_type": "stream",
     "text": [
      "The island country of Japan has developed into a great economy after World War 2. The Japan sea is a source of fish. Sushi is a famous fish and rice food.\n",
      "['island', 'country', 'japan', 'great', 'economy', 'world_war_2', 'japan', 'sea', 'source', 'fish', 'sushi', 'famous', 'fish', 'rice', 'food']\n",
      "[['island', 'country', 'japan', 'great', 'economy', 'world_war_2'], ['japan', 'sea', 'source', 'fish'], ['sushi', 'famous', 'fish', 'rice', 'food']]\n",
      "{('country', 'island'): 1, ('island', 'japan'): 1, ('country', 'japan'): 2, ('country', 'great'): 1, ('great', 'japan'): 2, ('economy', 'japan'): 1, ('economy', 'great'): 2, ('great', 'world_war_2'): 1, ('economy', 'world_war_2'): 1, ('japan', 'sea'): 1, ('japan', 'source'): 1, ('sea', 'source'): 2, ('fish', 'sea'): 1, ('fish', 'source'): 1, ('famous', 'sushi'): 1, ('fish', 'sushi'): 1, ('famous', 'fish'): 2, ('famous', 'rice'): 1, ('fish', 'rice'): 2, ('fish', 'food'): 1, ('food', 'rice'): 1}\n"
     ]
    },
    {
     "data": {
      "text/plain": [
       "NodeView(('sea', 'country', 'great', 'economy', 'world_war_2', 'rice', 'japan', 'fish', 'source', 'food', 'island', 'famous', 'sushi'))"
      ]
     },
     "execution_count": 3,
     "metadata": {},
     "output_type": "execute_result"
    }
   ],
   "source": [
    "# abstract = load_abstract('ex1')\n",
    "# joined, abstracts, titles, keywords = get_data('data/CS_papers.csv', version=\"CS\")\n",
    "# abstracts, keywords = get_data('data/inspec_papers.csv', version=\"inspec\")\n",
    "# abstract = joined[12]\n",
    "abstract = \"The island country of Japan has developed into a great economy after World War 2. \\\n",
    "The Japan sea is a source of fish. Sushi is a famous fish and rice food.\"\n",
    "ke = KeywordExtractor(abstract=abstract)\n",
    "print(abstract)\n",
    "print(ke.tokens)\n",
    "print(ke.sentences)\n",
    "print(ke.co)\n",
    "ke.graph.nodes"
   ]
  },
  {
   "cell_type": "markdown",
   "metadata": {},
   "source": [
    "Testing third party keyword extractors"
   ]
  },
  {
   "cell_type": "code",
   "execution_count": null,
   "metadata": {},
   "outputs": [],
   "source": [
    "from gensim.summarization import keywords\n",
    "\n",
    "# Extract keywords using TextRank\n",
    "extracted_keywords = keywords(abstract, lemmatize=True)\n",
    "\n",
    "# Print the extracted keywords\n",
    "print(extracted_keywords)"
   ]
  },
  {
   "cell_type": "code",
   "execution_count": null,
   "metadata": {},
   "outputs": [],
   "source": [
    "import spacy\n",
    "import pytextrank\n",
    "\n",
    "# example text\n",
    "text = abstract\n",
    "\n",
    "# load a spaCy model, depending on language, scale, etc.\n",
    "nlp = spacy.load(\"en_core_web_sm\")\n",
    "\n",
    "# add PyTextRank to the spaCy pipeline\n",
    "nlp.add_pipe(\"textrank\")\n",
    "doc = nlp(text)\n",
    "\n",
    "# examine the top-ranked phrases in the document\n",
    "#print(f\"Ground truth {keywords[0]}\")\n",
    "for phrase in doc._.phrases:\n",
    "    print(phrase.text)\n",
    "    print(phrase.rank, phrase.count)\n",
    "    print(phrase.chunks)"
   ]
  },
  {
   "cell_type": "code",
   "execution_count": 65,
   "metadata": {},
   "outputs": [
    {
     "name": "stdout",
     "output_type": "stream",
     "text": [
      "13\n",
      "{('food', 'fish'): 1, ('food', 'rice'): 1, ('sushi', 'famous'): 1, ('sushi', 'fish'): 1, ('island', 'country'): 1, ('island', 'japan'): 1, ('japan', 'country'): 2, ('japan', 'great'): 2, ('japan', 'economy'): 1, ('japan', 'sea'): 1, ('japan', 'source'): 1, ('world_war_2', 'great'): 1, ('world_war_2', 'economy'): 1, ('great', 'country'): 1, ('great', 'economy'): 2, ('fish', 'sea'): 1, ('fish', 'source'): 1, ('fish', 'famous'): 2, ('fish', 'rice'): 2, ('famous', 'rice'): 1, ('source', 'sea'): 2}\n",
      "Method selected: degree_centrality\n",
      "Node: japan                  --->    Node Order = 0.5\n",
      "Node: fish                   --->    Node Order = 0.5\n",
      "Node: great                  --->    Node Order = 0.3333333333333333\n",
      "Node: country                --->    Node Order = 0.25\n",
      "Node: famous                 --->    Node Order = 0.25\n",
      "Node: rice                   --->    Node Order = 0.25\n",
      "Node: source                 --->    Node Order = 0.25\n",
      "Node: sea                    --->    Node Order = 0.25\n",
      "Node: economy                --->    Node Order = 0.25\n",
      "Node: food                   --->    Node Order = 0.16666666666666666\n",
      "Node: sushi                  --->    Node Order = 0.16666666666666666\n",
      "Node: island                 --->    Node Order = 0.16666666666666666\n",
      "Node: world_war_2            --->    Node Order = 0.16666666666666666\n",
      "Method selected: degree_centrality\n",
      "Method selected: closeness_centrality\n",
      "Method selected: betweenness_centrality\n",
      "Method selected: eigenvector_centrality\n",
      "Method selected: pagerank\n",
      "Method selected: katz_centrality\n"
     ]
    }
   ],
   "source": [
    "print(len(ke.unique_tokens))\n",
    "labels = nx.get_edge_attributes(ke.graph,'weight')\n",
    "# ke.add_we_weights()\n",
    "#labels = nx.get_edge_attributes(ke.graph,'weight')\n",
    "\n",
    "# print(ke.graph.edges)\n",
    "print(labels)\n",
    "methods = {1: \"degree_centrality\", 2: \"closeness_centrality\", 3: \"betweenness_centrality\", 4:\"eigenvector_centrality\", 5:\"pagerank\", \\\n",
    "           6:\"katz_centrality\"} #, 7: \"hits\"}\n",
    "ke.order_nodes(method=methods[1])\n",
    "make_metrics_csv(ke, methods)\n",
    "# print(nx.shortest_path(ke.graph, source=\"rice\", target=\"japan\", weight=\"weight\"))\n",
    "# print(nx.shortest_path_length(ke.graph, source=\"world_war_2\", target=\"japan\", weight=\"weight\"))\n",
    "# ke.visualize_graph()"
   ]
  },
  {
   "cell_type": "code",
   "execution_count": 18,
   "metadata": {},
   "outputs": [
    {
     "name": "stdout",
     "output_type": "stream",
     "text": [
      "Centrality of node A: 0.33333\n",
      "Centrality of node B: 0.00000\n",
      "Centrality of node C: 0.00000\n",
      "Centrality of node D: 0.50000\n",
      "Centrality of node E: 0.00000\n",
      "[8.99852725 4.51399116 9.35935199 7.4005891  4.28571429]\n",
      "[0.55584268 0.27883107 0.57813097 0.45713739 0.26473031]\n"
     ]
    }
   ],
   "source": [
    "# Create the graph\n",
    "G = nx.Graph()\n",
    "G.add_node('A')\n",
    "G.add_node('B')\n",
    "G.add_node('C')\n",
    "G.add_node('D')\n",
    "G.add_node('E')\n",
    "# Add edges\n",
    "G.add_edge('A', 'B', weight=1)\n",
    "G.add_edge('A', 'C', weight=3)\n",
    "G.add_edge('B', 'E', weight=2)\n",
    "G.add_edge('C', 'D', weight=2)\n",
    "G.add_edge('D', 'E', weight=1)\n",
    "G.add_edge('A', 'D', weight=1)\n",
    "\n",
    "# Calculate degree centrality\n",
    "d = 1\n",
    "\n",
    "degree_centrality = nx.katz_centrality(G, weight=\"weight\", alpha = 0.20, beta=0.1)\n",
    "degree_centrality = nx.betweenness_centrality(G, weight=\"weight\")\n",
    "\n",
    "# Print degree centrality for each node\n",
    "for node, centrality in degree_centrality.items():\n",
    "    print(f'Centrality of node {node}: {centrality:.5f}')\n",
    "\n",
    "A = nx.adjacency_matrix(G).toarray()\n",
    "I = np.eye(5)\n",
    "alpha = 0.2\n",
    "C = (np.linalg.inv(I - alpha * A)) @ np.ones(5)\n",
    "#C = (np.linalg.inv(I - alpha * A.T) - I) @ np.ones(5)\n",
    "print(C)\n",
    "print(C / np.sqrt(np.sum(C**2)))\n",
    "\n",
    "#print(A)\n",
    "# A = A / A.sum(axis=0, keepdims=True)\n",
    "# print(A)\n",
    "# eigenvalues, eigenvectors = np.linalg.eig(A)\n",
    "# print(eigenvalues)\n",
    "# dominant_index = np.argmax(eigenvalues)\n",
    "# print(dominant_index)\n",
    "# dominant_eigenvector = eigenvectors[:, dominant_index]\n",
    "# print(dominant_eigenvector)\n",
    "# print(dominant_eigenvector/np.sum(dominant_eigenvector))\n",
    "\n",
    "# I = np.eye(5)\n",
    "# R = (1-d)/5 * np.linalg.inv(I - d*np.transpose(A)) @ np.ones(5) \n",
    "# print(f\"final: {R}\")\n",
    "# Draw the graph\n",
    "# pos = nx.spring_layout(G)\n",
    "# nx.draw(G, pos, with_labels=True, font_weight='bold', node_color='skyblue', node_size=800)\n",
    "# edge_labels = nx.get_edge_attributes(G, 'weight')\n",
    "# nx.draw_networkx_edge_labels(G, pos, edge_labels=edge_labels)\n",
    "# plt.show()"
   ]
  },
  {
   "cell_type": "markdown",
   "metadata": {},
   "source": [
    "Testing word embeddings"
   ]
  },
  {
   "cell_type": "code",
   "execution_count": null,
   "metadata": {},
   "outputs": [],
   "source": [
    "from sklearn.metrics.pairwise import cosine_similarity\n",
    "\n",
    "model = KeyedVectors.load('data/model.model')\n",
    "a = get_word_em(\"nlp\")\n",
    "b = get_word_em(\"apple\")\n",
    "print(model.similarity(\"nlp\", \"apple\"))\n",
    "print(cosine_similarity(a.reshape(1, -1), b.reshape(1, -1))[0])\n",
    "similar_words = model.similar_by_vector(a, topn=5)\n",
    "print(\"\\nWords similar to:\")\n",
    "for word, score in similar_words:\n",
    "    print(f\"{word}: {score}\")"
   ]
  },
  {
   "cell_type": "code",
   "execution_count": 2,
   "metadata": {},
   "outputs": [
    {
     "name": "stdout",
     "output_type": "stream",
     "text": [
      "Vector representation of 'apple':\n",
      "[ 0.52042  -0.8314    0.49961   1.2893    0.1151    0.057521 -1.3753\n",
      " -0.97313   0.18346   0.47672  -0.15112   0.35532   0.25912  -0.77857\n",
      "  0.52181   0.47695  -1.4251    0.858     0.59821  -1.0903    0.33574\n",
      " -0.60891   0.41742   0.21569  -0.07417  -0.5822   -0.4502    0.17253\n",
      "  0.16448  -0.38413   2.3283   -0.66682  -0.58181   0.74389   0.095015\n",
      " -0.47865  -0.84591   0.38704   0.23693  -1.5523    0.64802  -0.16521\n",
      " -1.4719   -0.16224   0.79857   0.97391   0.40027  -0.21912  -0.30938\n",
      "  0.26581 ]\n",
      "\n",
      "Words similar to 'apple':\n",
      "blackberry: 0.7543067932128906\n",
      "chips: 0.7438643574714661\n",
      "iphone: 0.7429664134979248\n",
      "microsoft: 0.7334205508232117\n",
      "ipad: 0.7331036925315857\n",
      "\n",
      "'king' - 'man' + 'woman' =\n",
      "queen: 0.8523604273796082\n",
      "Similarity between 'learning' and 'island': 0.25\n"
     ]
    }
   ],
   "source": [
    "model = KeyedVectors.load('data/model.model')\n",
    "# Find the vector representation of a word\n",
    "word_vector = model[\"apple\"]\n",
    "print(\"Vector representation of 'apple':\")\n",
    "print(word_vector)\n",
    "\n",
    "# Find similar words\n",
    "similar_words = model.most_similar(\"apple\", topn=5)\n",
    "print(\"\\nWords similar to 'apple':\")\n",
    "for word, score in similar_words:\n",
    "    print(f\"{word}: {score}\")\n",
    "\n",
    "# Perform vector arithmetic (e.g., king - man + woman = queen)\n",
    "result = model.most_similar(positive=[\"king\", \"woman\"], negative=[\"man\"], topn=1)\n",
    "print(\"\\n'king' - 'man' + 'woman' =\")\n",
    "for word, score in result:\n",
    "    print(f\"{word}: {score}\")\n",
    "\n",
    "# Assuming you have already loaded a pretrained Word2Vec model\n",
    "word1 = \"learning\"\n",
    "word2 = \"island\"\n",
    "\n",
    "# Calculate the similarity between two words\n",
    "similarity_score = model.similarity(word1, word2)\n",
    "\n",
    "print(f\"Similarity between '{word1}' and '{word2}': {similarity_score:.2f}\")\n"
   ]
  }
 ],
 "metadata": {
  "kernelspec": {
   "display_name": "venv",
   "language": "python",
   "name": "python3"
  },
  "language_info": {
   "codemirror_mode": {
    "name": "ipython",
    "version": 3
   },
   "file_extension": ".py",
   "mimetype": "text/x-python",
   "name": "python",
   "nbconvert_exporter": "python",
   "pygments_lexer": "ipython3",
   "version": "3.11.3"
  },
  "orig_nbformat": 4
 },
 "nbformat": 4,
 "nbformat_minor": 2
}
