{
 "cells": [
  {
   "cell_type": "code",
   "execution_count": 1,
   "metadata": {},
   "outputs": [
    {
     "name": "stderr",
     "output_type": "stream",
     "text": [
      "[nltk_data] Downloading package stopwords to\n",
      "[nltk_data]     C:\\Users\\pc\\AppData\\Roaming\\nltk_data...\n",
      "[nltk_data]   Package stopwords is already up-to-date!\n"
     ]
    }
   ],
   "source": [
    "%load_ext autoreload\n",
    "%autoreload 2\n",
    "from utils import *"
   ]
  },
  {
   "cell_type": "code",
   "execution_count": 9,
   "metadata": {},
   "outputs": [
    {
     "name": "stdout",
     "output_type": "stream",
     "text": [
      "['Multi-Layer_Perceptrons', '(', 'MLPs', ')', 'have', 'long', 'been', 'known', 'to', 'enjoy', 'permutation', 'symmetries', ',', 'namely', 'the', 'fact', 'that', 'activations', 'of', 'intermediate', 'layers', 'can', 'be', 'swapped', 'without', 'changing', 'the', 'underlying', 'function', '.', 'Research', 'works', 'inspired', 'by', 'this', 'property', 'have', 'been', 'recently', 'building', 'up', 'to', 'a', 'conjecture', 'stating', 'that', 'any', 'two', 'Stochastic_Gradient_Descent', '(', 'SGD', ')', 'solutions', ',', 'up', 'to', 'a', 'permutation', ',', 'lie', 'in', 'the', 'same', 'low-loss', 'region', 'of', 'the', 'parameter', 'space', ',', 'i.e', '.', 'they', 'enjoy', 'Linear_Mode_Connectivity', '(', 'LMC', ')', '.', 'Concurrently', ',', 'Implicit_Neural_Representations', '(', 'INRs', ')', 'have', 'been', 'emerging', 'as', 'a', 'new', 'unifying', 'paradigm', 'to', 'store', 'and', 'represent', 'various', 'signals', 'of', 'interest', '(', 'such', 'as', 'images', ',', 'audio', ',', 'and', '3D', 'surfaces', ')', ',', 'which', 'has', 'sparked', 'a', 'novel', 'interest', 'in', 'machine_learning', 'architectures', 'designed', 'to', 'work', 'on', 'neural', 'networks', 'themselves', 'by', 'processing', 'their', 'weights', 'only', '.', 'The', 'recently', 'proposed', 'inr2vec', 'framework', 'is', 'one', 'such', 'architecture', ',', 'and', 'has', 'been', 'shown', 'to', 'be', 'able', 'to', 'embed', 'input', 'INRs', 'of', '3D', 'shapes', 'into', 'latent', 'codes', 'that', 'can', 'be', 'effectively', 'fed', 'into', 'standard', 'deep', 'learning', 'pipelines', '.', 'A', 'key', 'requirement', 'for', 'the', 'convergence', 'of', 'inr2vec', 'is', 'that', 'input', 'INRs', 'share', 'the', 'same', 'random', 'initialization', ',', 'which', 'has', 'been', 'pointed', 'out', 'as', 'a', 'potential', 'limitation', 'to', 'its', 'applicability', '.', 'Hence', ',', 'the', 'motivation', 'behind', 'our', 'work', 'is', 'to', 'eventually', 'allow', 'inr2vec', 'to', 'work', 'with', 'arbitrary', 'in-the-wild', 'INRs', ',', 'regardless', 'of', 'their', 'initialization', '.', 'As', 'a', 'first', 'attempt', 'to', 'tackle', 'this', 'complex', 'task', ',', 'we', 'apply', 'and', 'thoroughly', 'analyze', 'recent', 'combinatorial', 'methods', 'which', 'lay', 'their', 'foundations', 'on', 'the', 'aforementioned', 'conjecture', 'by', 'computing', 'a', 'weight', 'permutation', 'that', 'aims', 'at', 'aligning', 'two', 'INRs', 'of', 'the', 'same', '3D', 'surface', '.', 'This', 'approach', ',', 'although', 'promising', 'in', 'some', 'of', 'its', 'results', ',', 'is', 'ultimately', 'shown', 'to', 'be', 'unable', 'to', 'move', 'INRs', 'into', 'the', 'same', 'basin', 'of', 'the', 'loss', 'landscape', '.', 'Finally', ',', 'we', 'present', 'preliminary', 'results', 'of', 'a', 'novel', 'deep', 'learning', 'methodology', 'devised', 'to', 'achieve', 'LMC', 'by', 'directly', 'learning', 'new', 'weights', 'for', 'one', 'of', 'the', 'two', 'models', '.']\n"
     ]
    }
   ],
   "source": [
    "#prune_text(\"aaa bbbb ccc\")\n",
    "abstract = load_abstract('ex1')\n",
    "tokens = prune_text(abstract)\n",
    "print(tokens)"
   ]
  }
 ],
 "metadata": {
  "kernelspec": {
   "display_name": "venv",
   "language": "python",
   "name": "python3"
  },
  "language_info": {
   "codemirror_mode": {
    "name": "ipython",
    "version": 3
   },
   "file_extension": ".py",
   "mimetype": "text/x-python",
   "name": "python",
   "nbconvert_exporter": "python",
   "pygments_lexer": "ipython3",
   "version": "3.11.3"
  },
  "orig_nbformat": 4
 },
 "nbformat": 4,
 "nbformat_minor": 2
}
