{
 "cells": [
  {
   "cell_type": "code",
   "execution_count": 58,
   "metadata": {},
   "outputs": [
    {
     "name": "stdout",
     "output_type": "stream",
     "text": [
      "The autoreload extension is already loaded. To reload it, use:\n",
      "  %reload_ext autoreload\n"
     ]
    }
   ],
   "source": [
    "%load_ext autoreload\n",
    "%autoreload 2\n",
    "from utils import *\n",
    "from KeywordExtractor import *\n",
    "from gensim.models import Word2Vec\n",
    "import networkx as nx\n",
    "from itertools import combinations\n",
    "import numpy as np"
   ]
  },
  {
   "cell_type": "code",
   "execution_count": 63,
   "metadata": {},
   "outputs": [
    {
     "name": "stdout",
     "output_type": "stream",
     "text": [
      "['country', 'japan', 'developed', 'great', 'economy', 'ww1', 'japan', 'developed', 'island', 'nation', 'love']\n",
      "[['country', 'japan', 'developed', 'great', 'economy', 'ww1'], ['japan', 'developed', 'island', 'nation'], ['love']]\n",
      "Graph with 9 nodes and 0 edges\n"
     ]
    },
    {
     "data": {
      "text/plain": [
       "NodeView(('country', 'japan', 'developed', 'great', 'economy', 'ww1', 'island', 'nation', 'love'))"
      ]
     },
     "execution_count": 63,
     "metadata": {},
     "output_type": "execute_result"
    }
   ],
   "source": [
    "#prune_text(\"aaa bbbb ccc\")\n",
    "abstract = load_abstract('ex1')\n",
    "abstract = \"The country of Japan has developed to a great economy after WW1. Japan is a developed island nation. I love.\"\n",
    "ke = KeywordExtractor(abstract=abstract)\n",
    "print(ke.tokens)\n",
    "print(ke.sentences)\n",
    "print(ke.graph)\n",
    "ke.graph.nodes"
   ]
  },
  {
   "cell_type": "code",
   "execution_count": 28,
   "metadata": {},
   "outputs": [
    {
     "name": "stdout",
     "output_type": "stream",
     "text": [
      "[('japan', 'love'), ('japan', 'economy'), ('love', 'economy')]\n"
     ]
    }
   ],
   "source": [
    "get_co_matrix(ke.sentences, ke.unique_tokens)\n",
    "my_list = ['japan', 'love', 'economy']\n",
    "p = list(combinations(my_list, 2))\n",
    "print(p)"
   ]
  },
  {
   "cell_type": "code",
   "execution_count": 64,
   "metadata": {},
   "outputs": [
    {
     "name": "stdout",
     "output_type": "stream",
     "text": [
      "[['country', 'japan', 'developed', 'great', 'economy', 'ww1'], ['japan', 'developed', 'island', 'nation'], ['love']]\n",
      "['japan', 'love', 'economy', 'ww1', 'country', 'nation', 'great', 'developed', 'island']\n",
      "['country', 'japan', 'developed']\n",
      "['japan', 'developed', 'great']\n",
      "['developed', 'great', 'economy']\n",
      "['great', 'economy', 'ww1']\n",
      "['japan', 'developed', 'island']\n",
      "['developed', 'island', 'nation']\n",
      "['love']\n",
      "{'japan': 0, 'love': 1, 'economy': 2, 'ww1': 3, 'country': 4, 'nation': 5, 'great': 6, 'developed': 7, 'island': 8}\n",
      "[0. 0. 0. 0. 1. 0. 1. 3. 1.]\n",
      "[0. 0. 0. 0. 0. 0. 0. 0. 0.]\n",
      "[0. 0. 0. 1. 0. 0. 2. 1. 0.]\n",
      "[0. 0. 1. 0. 0. 0. 1. 0. 0.]\n",
      "[1. 0. 0. 0. 0. 0. 0. 1. 0.]\n",
      "[0. 0. 0. 0. 0. 0. 0. 1. 1.]\n",
      "[1. 0. 2. 1. 0. 0. 0. 2. 0.]\n",
      "[3. 0. 1. 0. 1. 1. 2. 0. 2.]\n",
      "[1. 0. 0. 0. 0. 1. 0. 2. 0.]\n"
     ]
    },
    {
     "data": {
      "text/plain": [
       "0.0"
      ]
     },
     "execution_count": 64,
     "metadata": {},
     "output_type": "execute_result"
    }
   ],
   "source": [
    "print(ke.sentences)\n",
    "print(ke.unique_tokens)\n",
    "\n",
    "co_matrix, index_dict = get_co_matrix(ke.sentences, ke.unique_tokens)\n",
    "print(index_dict)\n",
    "for c in co_matrix: print(c)\n",
    "co_matrix[0][0]"
   ]
  }
 ],
 "metadata": {
  "kernelspec": {
   "display_name": "venv",
   "language": "python",
   "name": "python3"
  },
  "language_info": {
   "codemirror_mode": {
    "name": "ipython",
    "version": 3
   },
   "file_extension": ".py",
   "mimetype": "text/x-python",
   "name": "python",
   "nbconvert_exporter": "python",
   "pygments_lexer": "ipython3",
   "version": "3.11.3"
  },
  "orig_nbformat": 4
 },
 "nbformat": 4,
 "nbformat_minor": 2
}
