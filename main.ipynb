{
 "cells": [
  {
   "cell_type": "code",
   "execution_count": 14,
   "metadata": {},
   "outputs": [
    {
     "name": "stdout",
     "output_type": "stream",
     "text": [
      "The autoreload extension is already loaded. To reload it, use:\n",
      "  %reload_ext autoreload\n"
     ]
    }
   ],
   "source": [
    "%load_ext autoreload\n",
    "%autoreload 2\n",
    "from utils import *\n",
    "from KeywordExtractor import *"
   ]
  },
  {
   "cell_type": "code",
   "execution_count": 16,
   "metadata": {},
   "outputs": [
    {
     "name": "stdout",
     "output_type": "stream",
     "text": [
      "['Multi-Layer_Perceptrons', 'MLPs', 'long', 'known', 'enjoy', 'permutation', 'symmetries', 'namely', 'fact', 'activations', 'intermediate', 'layers', 'swapped', 'without', 'changing', 'underlying', 'function', 'Research', 'works', 'inspired', 'property', 'recently', 'building', 'conjecture', 'stating', 'two', 'Stochastic_Gradient_Descent', 'SGD', 'solutions', 'permutation', 'lie', 'low-loss', 'region', 'parameter', 'space', 'enjoy', 'Linear_Mode_Connectivity', 'LMC', 'Concurrently', 'Implicit_Neural_Representations', 'INRs', 'emerging', 'new', 'unifying', 'paradigm', 'store', 'represent', 'various', 'signals', 'interest', 'images', 'audio', '3D', 'surfaces', 'sparked', 'novel', 'interest', 'machine_learning', 'architectures', 'designed', 'work', 'neural', 'networks', 'processing', 'weights', 'recently', 'proposed', 'inr2vec', 'framework', 'one', 'architecture', 'shown', 'able', 'embed', 'input', 'INRs', '3D', 'shapes', 'latent', 'codes', 'effectively', 'fed', 'standard', 'deep_learning', 'pipelines', 'key', 'requirement', 'convergence', 'inr2vec', 'input', 'INRs', 'share', 'random', 'initialization', 'pointed', 'potential', 'limitation', 'applicability', 'Hence', 'motivation', 'behind', 'work', 'eventually', 'allow', 'inr2vec', 'work', 'arbitrary', 'in-the-wild', 'INRs', 'regardless', 'initialization', 'first', 'attempt', 'tackle', 'complex', 'task', 'apply', 'thoroughly', 'analyze', 'recent', 'combinatorial', 'methods', 'lay', 'foundations', 'aforementioned', 'conjecture', 'computing', 'weight', 'permutation', 'aims', 'aligning', 'two', 'INRs', '3D', 'surface', 'approach', 'although', 'promising', 'results', 'ultimately', 'shown', 'unable', 'move', 'INRs', 'basin', 'loss', 'landscape', 'Finally', 'present', 'preliminary', 'results', 'novel', 'deep_learning', 'methodology', 'devised', 'achieve', 'LMC', 'directly', 'learning', 'new', 'weights', 'one', 'two', 'models']\n"
     ]
    }
   ],
   "source": [
    "#prune_text(\"aaa bbbb ccc\")\n",
    "abstract = load_abstract('ex1')\n",
    "ke = KeywordExtractor(abstract=abstract)\n",
    "print(ke.tokens)"
   ]
  }
 ],
 "metadata": {
  "kernelspec": {
   "display_name": "venv",
   "language": "python",
   "name": "python3"
  },
  "language_info": {
   "codemirror_mode": {
    "name": "ipython",
    "version": 3
   },
   "file_extension": ".py",
   "mimetype": "text/x-python",
   "name": "python",
   "nbconvert_exporter": "python",
   "pygments_lexer": "ipython3",
   "version": "3.11.3"
  },
  "orig_nbformat": 4
 },
 "nbformat": 4,
 "nbformat_minor": 2
}
